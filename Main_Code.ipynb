{
 "cells": [
  {
   "cell_type": "code",
   "execution_count": 11,
   "id": "83d19f0a-a8dd-478c-944c-fba3bf6dce42",
   "metadata": {},
   "outputs": [
    {
     "data": {
      "text/html": [
       "<div>\n",
       "<style scoped>\n",
       "    .dataframe tbody tr th:only-of-type {\n",
       "        vertical-align: middle;\n",
       "    }\n",
       "\n",
       "    .dataframe tbody tr th {\n",
       "        vertical-align: top;\n",
       "    }\n",
       "\n",
       "    .dataframe thead th {\n",
       "        text-align: right;\n",
       "    }\n",
       "</style>\n",
       "<table border=\"1\" class=\"dataframe\">\n",
       "  <thead>\n",
       "    <tr style=\"text-align: right;\">\n",
       "      <th></th>\n",
       "      <th>CID</th>\n",
       "      <th>MolecularWeight</th>\n",
       "      <th>XLogP</th>\n",
       "      <th>InChIKey</th>\n",
       "      <th>CanonicalSMILES</th>\n",
       "    </tr>\n",
       "  </thead>\n",
       "  <tbody>\n",
       "    <tr>\n",
       "      <th>0</th>\n",
       "      <td>2244</td>\n",
       "      <td>180.16</td>\n",
       "      <td>1.2</td>\n",
       "      <td>BSYNRYMUTXBXSQ-UHFFFAOYSA-N</td>\n",
       "      <td>CC(=O)OC1=CC=CC=C1C(=O)O</td>\n",
       "    </tr>\n",
       "    <tr>\n",
       "      <th>1</th>\n",
       "      <td>1983</td>\n",
       "      <td>151.16</td>\n",
       "      <td>0.5</td>\n",
       "      <td>RZVAJINKPMORJF-UHFFFAOYSA-N</td>\n",
       "      <td>CC(=O)NC1=CC=C(C=C1)O</td>\n",
       "    </tr>\n",
       "    <tr>\n",
       "      <th>2</th>\n",
       "      <td>2519</td>\n",
       "      <td>194.19</td>\n",
       "      <td>-0.1</td>\n",
       "      <td>RYYVLZVUVIJVGH-UHFFFAOYSA-N</td>\n",
       "      <td>CN1C=NC2=C1C(=O)N(C(=O)N2C)C</td>\n",
       "    </tr>\n",
       "    <tr>\n",
       "      <th>3</th>\n",
       "      <td>3672</td>\n",
       "      <td>206.28</td>\n",
       "      <td>3.5</td>\n",
       "      <td>HEFNNWSXXWATRW-UHFFFAOYSA-N</td>\n",
       "      <td>CC(C)CC1=CC=C(C=C1)C(C)C(=O)O</td>\n",
       "    </tr>\n",
       "    <tr>\n",
       "      <th>4</th>\n",
       "      <td>3676</td>\n",
       "      <td>234.34</td>\n",
       "      <td>2.3</td>\n",
       "      <td>NNJVILVZKWQKPM-UHFFFAOYSA-N</td>\n",
       "      <td>CCN(CC)CC(=O)NC1=C(C=CC=C1C)C</td>\n",
       "    </tr>\n",
       "  </tbody>\n",
       "</table>\n",
       "</div>"
      ],
      "text/plain": [
       "    CID  MolecularWeight  XLogP                     InChIKey  \\\n",
       "0  2244           180.16    1.2  BSYNRYMUTXBXSQ-UHFFFAOYSA-N   \n",
       "1  1983           151.16    0.5  RZVAJINKPMORJF-UHFFFAOYSA-N   \n",
       "2  2519           194.19   -0.1  RYYVLZVUVIJVGH-UHFFFAOYSA-N   \n",
       "3  3672           206.28    3.5  HEFNNWSXXWATRW-UHFFFAOYSA-N   \n",
       "4  3676           234.34    2.3  NNJVILVZKWQKPM-UHFFFAOYSA-N   \n",
       "\n",
       "                 CanonicalSMILES  \n",
       "0       CC(=O)OC1=CC=CC=C1C(=O)O  \n",
       "1          CC(=O)NC1=CC=C(C=C1)O  \n",
       "2   CN1C=NC2=C1C(=O)N(C(=O)N2C)C  \n",
       "3  CC(C)CC1=CC=C(C=C1)C(C)C(=O)O  \n",
       "4  CCN(CC)CC(=O)NC1=C(C=CC=C1C)C  "
      ]
     },
     "execution_count": 11,
     "metadata": {},
     "output_type": "execute_result"
    }
   ],
   "source": [
    "import pandas as pd\n",
    "\n",
    "# Update the path if needed\n",
    "df = pd.read_csv(\"CSV.csv\")\n",
    "df.head()\n"
   ]
  },
  {
   "cell_type": "code",
   "execution_count": 13,
   "id": "8af94bbc-ffd6-48f7-a5f7-e465dd774cfc",
   "metadata": {},
   "outputs": [
    {
     "name": "stdout",
     "output_type": "stream",
     "text": [
      "<class 'pandas.core.frame.DataFrame'>\n",
      "RangeIndex: 5 entries, 0 to 4\n",
      "Data columns (total 5 columns):\n",
      " #   Column           Non-Null Count  Dtype  \n",
      "---  ------           --------------  -----  \n",
      " 0   CID              5 non-null      int64  \n",
      " 1   MolecularWeight  5 non-null      float64\n",
      " 2   XLogP            5 non-null      float64\n",
      " 3   InChIKey         5 non-null      object \n",
      " 4   CanonicalSMILES  5 non-null      object \n",
      "dtypes: float64(2), int64(1), object(2)\n",
      "memory usage: 328.0+ bytes\n",
      "None\n",
      "CID                0\n",
      "MolecularWeight    0\n",
      "XLogP              0\n",
      "InChIKey           0\n",
      "CanonicalSMILES    0\n",
      "dtype: int64\n"
     ]
    }
   ],
   "source": [
    "# Check column names and data types\n",
    "print(df.info())\n",
    "\n",
    "# Check for missing values\n",
    "print(df.isnull().sum())\n"
   ]
  },
  {
   "cell_type": "code",
   "execution_count": 17,
   "id": "223b2a57-d218-42c5-8ec7-661df2f6219a",
   "metadata": {},
   "outputs": [
    {
     "data": {
      "text/html": [
       "<div>\n",
       "<style scoped>\n",
       "    .dataframe tbody tr th:only-of-type {\n",
       "        vertical-align: middle;\n",
       "    }\n",
       "\n",
       "    .dataframe tbody tr th {\n",
       "        vertical-align: top;\n",
       "    }\n",
       "\n",
       "    .dataframe thead th {\n",
       "        text-align: right;\n",
       "    }\n",
       "</style>\n",
       "<table border=\"1\" class=\"dataframe\">\n",
       "  <thead>\n",
       "    <tr style=\"text-align: right;\">\n",
       "      <th></th>\n",
       "      <th>CID</th>\n",
       "      <th>MolecularWeight</th>\n",
       "      <th>XLogP</th>\n",
       "      <th>InChIKey</th>\n",
       "      <th>SMILES</th>\n",
       "    </tr>\n",
       "  </thead>\n",
       "  <tbody>\n",
       "    <tr>\n",
       "      <th>0</th>\n",
       "      <td>2244</td>\n",
       "      <td>180.16</td>\n",
       "      <td>1.2</td>\n",
       "      <td>BSYNRYMUTXBXSQ-UHFFFAOYSA-N</td>\n",
       "      <td>CC(=O)OC1=CC=CC=C1C(=O)O</td>\n",
       "    </tr>\n",
       "    <tr>\n",
       "      <th>1</th>\n",
       "      <td>1983</td>\n",
       "      <td>151.16</td>\n",
       "      <td>0.5</td>\n",
       "      <td>RZVAJINKPMORJF-UHFFFAOYSA-N</td>\n",
       "      <td>CC(=O)NC1=CC=C(C=C1)O</td>\n",
       "    </tr>\n",
       "    <tr>\n",
       "      <th>2</th>\n",
       "      <td>2519</td>\n",
       "      <td>194.19</td>\n",
       "      <td>-0.1</td>\n",
       "      <td>RYYVLZVUVIJVGH-UHFFFAOYSA-N</td>\n",
       "      <td>CN1C=NC2=C1C(=O)N(C(=O)N2C)C</td>\n",
       "    </tr>\n",
       "    <tr>\n",
       "      <th>3</th>\n",
       "      <td>3672</td>\n",
       "      <td>206.28</td>\n",
       "      <td>3.5</td>\n",
       "      <td>HEFNNWSXXWATRW-UHFFFAOYSA-N</td>\n",
       "      <td>CC(C)CC1=CC=C(C=C1)C(C)C(=O)O</td>\n",
       "    </tr>\n",
       "    <tr>\n",
       "      <th>4</th>\n",
       "      <td>3676</td>\n",
       "      <td>234.34</td>\n",
       "      <td>2.3</td>\n",
       "      <td>NNJVILVZKWQKPM-UHFFFAOYSA-N</td>\n",
       "      <td>CCN(CC)CC(=O)NC1=C(C=CC=C1C)C</td>\n",
       "    </tr>\n",
       "  </tbody>\n",
       "</table>\n",
       "</div>"
      ],
      "text/plain": [
       "    CID  MolecularWeight  XLogP                     InChIKey  \\\n",
       "0  2244           180.16    1.2  BSYNRYMUTXBXSQ-UHFFFAOYSA-N   \n",
       "1  1983           151.16    0.5  RZVAJINKPMORJF-UHFFFAOYSA-N   \n",
       "2  2519           194.19   -0.1  RYYVLZVUVIJVGH-UHFFFAOYSA-N   \n",
       "3  3672           206.28    3.5  HEFNNWSXXWATRW-UHFFFAOYSA-N   \n",
       "4  3676           234.34    2.3  NNJVILVZKWQKPM-UHFFFAOYSA-N   \n",
       "\n",
       "                          SMILES  \n",
       "0       CC(=O)OC1=CC=CC=C1C(=O)O  \n",
       "1          CC(=O)NC1=CC=C(C=C1)O  \n",
       "2   CN1C=NC2=C1C(=O)N(C(=O)N2C)C  \n",
       "3  CC(C)CC1=CC=C(C=C1)C(C)C(=O)O  \n",
       "4  CCN(CC)CC(=O)NC1=C(C=CC=C1C)C  "
      ]
     },
     "execution_count": 17,
     "metadata": {},
     "output_type": "execute_result"
    }
   ],
   "source": [
    "# Rename columns for easier access if needed\n",
    "df.rename(columns={'CanonicalSMILES': 'SMILES'}, inplace=True)\n",
    "\n",
    "# Drop rows with missing values if necessary\n",
    "df.dropna(inplace=True)\n",
    "\n",
    "# Check the cleaned dataset\n",
    "df.head()\n"
   ]
  },
  {
   "cell_type": "code",
   "execution_count": 18,
   "id": "eeeebe7d-1e20-4ca2-90fb-2e42ead9257c",
   "metadata": {},
   "outputs": [
    {
     "data": {
      "image/png": "[encoded data removed]",
      "text/plain": [
       "<Figure size 800x600 with 1 Axes>"
      ]
     },
     "metadata": {},
     "output_type": "display_data"
    }
   ],
   "source": [
    "import matplotlib.pyplot as plt\n",
    "import seaborn as sns\n",
    "\n",
    "plt.figure(figsize=(8, 6))\n",
    "sns.scatterplot(data=df, x='MolecularWeight', y='XLogP', hue='CID', palette='Set2')\n",
    "plt.title('Molecular Weight vs XLogP')\n",
    "plt.xlabel('Molecular Weight')\n",
    "plt.ylabel('XLogP')\n",
    "plt.grid(True)\n",
    "plt.show()\n"
   ]
  },
  {
   "cell_type": "code",
   "execution_count": 7,
   "id": "83a197f6-8486-459d-bc16-4eee1dd44a30",
   "metadata": {},
   "outputs": [
    {
     "name": "stderr",
     "output_type": "stream",
     "text": [
      "C:\\Users\\SHIVANI\\AppData\\Local\\Temp\\ipykernel_13568\\80929209.py:2: FutureWarning: \n",
      "\n",
      "Passing `palette` without assigning `hue` is deprecated and will be removed in v0.14.0. Assign the `x` variable to `hue` and set `legend=False` for the same effect.\n",
      "\n",
      "  sns.barplot(data=df, x='CID', y='XLogP', palette='Set3')\n"
     ]
    },
    {
     "data": {
      "image/png": "[encoded data removed]",
      "text/plain": [
       "<Figure size 800x600 with 1 Axes>"
      ]
     },
     "metadata": {},
     "output_type": "display_data"
    }
   ],
   "source": [
    "plt.figure(figsize=(8, 6))\n",
    "sns.barplot(data=df, x='CID', y='XLogP', palette='Set3')\n",
    "plt.title('XLogP of Compounds by CID')\n",
    "plt.xlabel('Compound CID')\n",
    "plt.ylabel('XLogP')\n",
    "plt.show()\n"
   ]
  },
  {
   "cell_type": "code",
   "execution_count": 22,
   "id": "883e4d71-5dd8-4cb1-82dc-eca41796f611",
   "metadata": {},
   "outputs": [
    {
     "name": "stdout",
     "output_type": "stream",
     "text": [
      "\n",
      " Solvent Type: Alcohol/Mixed\n",
      "    CID  MolecularWeight  XLogP\n",
      "0  2244           180.16    1.2\n",
      "1  1983           151.16    0.5\n",
      "4  3676           234.34    2.3\n",
      "\n",
      " Solvent Type: Oil-based\n",
      "    CID  MolecularWeight  XLogP\n",
      "3  3672           206.28    3.5\n",
      "\n",
      " Solvent Type: Water-based\n",
      "    CID  MolecularWeight  XLogP\n",
      "2  2519           194.19   -0.1\n"
     ]
    }
   ],
   "source": [
    "def predict_solvent(xlogp):\n",
    "    if pd.isna(xlogp):\n",
    "        return \"Unknown\"\n",
    "    elif xlogp < 0:\n",
    "        return \"Water-based\"\n",
    "    elif 0 <= xlogp <= 3:\n",
    "        return \"Alcohol/Mixed\"\n",
    "    else:\n",
    "        return \"Oil-based\"\n",
    "\n",
    "# Apply the function to the dataframe\n",
    "df['Predicted_Solvent'] = df['XLogP'].apply(predict_solvent)\n",
    "\n",
    "# Grouping by predicted solvent\n",
    "grouped = df.groupby('Predicted_Solvent')\n",
    "\n",
    "# Display the groups\n",
    "for solvent, group in grouped:\n",
    "    print(f\"\\n Solvent Type: {solvent}\")\n",
    "    print(group[['CID', 'MolecularWeight', 'XLogP']])"
   ]
  },
  {
   "cell_type": "code",
   "execution_count": null,
   "id": "f580b8ca-30d3-4bcb-b014-e0a1f907bf70",
   "metadata": {},
   "outputs": [],
   "source": []
  }
 ],
 "metadata": {
  "kernelspec": {
   "display_name": "Python 3 (ipykernel)",
   "language": "python",
   "name": "python3"
  },
  "language_info": {
   "codemirror_mode": {
    "name": "ipython",
    "version": 3
   },
   "file_extension": ".py",
   "mimetype": "text/x-python",
   "name": "python",
   "nbconvert_exporter": "python",
   "pygments_lexer": "ipython3",
   "version": "3.10.16"
  }
 },
 "nbformat": 4,
 "nbformat_minor": 5
}
